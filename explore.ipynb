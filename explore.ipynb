{
 "cells": [
  {
   "cell_type": "code",
   "execution_count": 2,
   "metadata": {},
   "outputs": [],
   "source": [
    "from messenger import Messenger\n",
    "import plotly.express as px\n"
   ]
  },
  {
   "cell_type": "code",
   "execution_count": 4,
   "metadata": {},
   "outputs": [
    {
     "name": "stdout",
     "output_type": "stream",
     "text": [
      "Importing previously saved output from: /Users/aoshenzhou/personal/messenger_analyse/personal_data/df.gzip\n",
      "Imported.\n"
     ]
    }
   ],
   "source": [
    "msg = Messenger()\n",
    "msg.analyse()"
   ]
  },
  {
   "cell_type": "code",
   "execution_count": 6,
   "metadata": {},
   "outputs": [
    {
     "name": "stdout",
     "output_type": "stream",
     "text": [
      "Index(['participants', 'sender_name', 'content', 'type', 'file_path', 'date',\n",
      "       'num_words', 'num_participants', 'is_from_me', 'is_direct_msg',\n",
      "       'emojis', 'has_emoji', 'zzdate'],\n",
      "      dtype='object')\n"
     ]
    }
   ],
   "source": [
    "print(msg.data_all.columns)"
   ]
  },
  {
   "cell_type": "code",
   "execution_count": 12,
   "metadata": {},
   "outputs": [
    {
     "data": {
      "text/plain": [
       "Generic        2198674\n",
       "Share             8903\n",
       "Call              2708\n",
       "Unsubscribe        899\n",
       "Subscribe          495\n",
       "Name: type, dtype: int64"
      ]
     },
     "execution_count": 12,
     "metadata": {},
     "output_type": "execute_result"
    }
   ],
   "source": [
    "msg.data_all['type'].value_counts()"
   ]
  },
  {
   "cell_type": "code",
   "execution_count": 14,
   "metadata": {},
   "outputs": [
    {
     "name": "stdout",
     "output_type": "stream",
     "text": [
      "                                           participants          sender_name  \\\n",
      "153   Bronson Wong,Nathaniel Saraza,Kevin Gao,Felix ...          Bernie Chau   \n",
      "159   Bronson Wong,Nathaniel Saraza,Kevin Gao,Felix ...            Adrian Lu   \n",
      "264   Bronson Wong,Nathaniel Saraza,Kevin Gao,Felix ...         Michael Poon   \n",
      "267   Bronson Wong,Nathaniel Saraza,Kevin Gao,Felix ...  Charindu Weeraratne   \n",
      "400   Bronson Wong,Nathaniel Saraza,Kevin Gao,Felix ...            Adrian Lu   \n",
      "953   Bronson Wong,Nathaniel Saraza,Kevin Gao,Felix ...           Jesse Wong   \n",
      "1447  Bronson Wong,Nathaniel Saraza,Kevin Gao,Felix ...         Michael Poon   \n",
      "1978  Bronson Wong,Nathaniel Saraza,Kevin Gao,Felix ...         Michael Poon   \n",
      "1979  Bronson Wong,Nathaniel Saraza,Kevin Gao,Felix ...         Michael Poon   \n",
      "2700  Bronson Wong,Nathaniel Saraza,Kevin Gao,Felix ...            Will Zipp   \n",
      "\n",
      "                                                content       type  \\\n",
      "153   Bernie Chau added Hewitt Cheung and Michael Ch...  Subscribe   \n",
      "159             Adrian Lu added Kelvin Ly to the group.  Subscribe   \n",
      "264      Michael Poon added James Garnett to the group.  Subscribe   \n",
      "267   Charindu Weeraratne added James Garnett to the...  Subscribe   \n",
      "400            Adrian Lu added Jacob Yang to the group.  Subscribe   \n",
      "953        Jesse Wong added Chester Hsieh to the group.  Subscribe   \n",
      "1447  Michael Poon added Mahen Sinnarasa and 3 other...  Subscribe   \n",
      "1978      Michael Poon added Stanley Yick to the group.  Subscribe   \n",
      "1979    Michael Poon added Jonathan Trinh to the group.  Subscribe   \n",
      "2700         Will Zipp added Bronson Wong to the group.  Subscribe   \n",
      "\n",
      "                                              file_path  \\\n",
      "153   /Users/aoshenzhou/personal/messenger_analyse/p...   \n",
      "159   /Users/aoshenzhou/personal/messenger_analyse/p...   \n",
      "264   /Users/aoshenzhou/personal/messenger_analyse/p...   \n",
      "267   /Users/aoshenzhou/personal/messenger_analyse/p...   \n",
      "400   /Users/aoshenzhou/personal/messenger_analyse/p...   \n",
      "953   /Users/aoshenzhou/personal/messenger_analyse/p...   \n",
      "1447  /Users/aoshenzhou/personal/messenger_analyse/p...   \n",
      "1978  /Users/aoshenzhou/personal/messenger_analyse/p...   \n",
      "1979  /Users/aoshenzhou/personal/messenger_analyse/p...   \n",
      "2700  /Users/aoshenzhou/personal/messenger_analyse/p...   \n",
      "\n",
      "                                 date  num_words  num_participants  \\\n",
      "153  2021-12-26 22:59:32.105000+11:00         11                29   \n",
      "159  2020-08-09 11:08:14.752000+10:00          8                29   \n",
      "264  2020-02-09 11:28:43.182000+11:00          8                29   \n",
      "267  2020-02-09 11:06:38.852000+11:00          8                29   \n",
      "400  2019-10-09 12:28:08.606000+11:00          8                29   \n",
      "953  2019-05-07 20:53:35.031000+10:00          8                29   \n",
      "1447 2019-02-19 11:43:36.976000+11:00         11                29   \n",
      "1978 2018-11-17 19:45:32.649000+11:00          8                29   \n",
      "1979 2018-11-17 19:45:21.491000+11:00          8                29   \n",
      "2700 2018-11-09 00:20:30.850000+11:00          8                29   \n",
      "\n",
      "      is_from_me  is_direct_msg emojis  has_emoji      zzdate  \n",
      "153            0              0   None          0  2021-12-26  \n",
      "159            0              0   None          0  2020-08-09  \n",
      "264            0              0   None          0  2020-02-09  \n",
      "267            0              0   None          0  2020-02-09  \n",
      "400            0              0   None          0  2019-10-09  \n",
      "953            0              0   None          0  2019-05-07  \n",
      "1447           0              0   None          0  2019-02-19  \n",
      "1978           0              0   None          0  2018-11-17  \n",
      "1979           0              0   None          0  2018-11-17  \n",
      "2700           0              0   None          0  2018-11-09  \n"
     ]
    }
   ],
   "source": [
    "calls = msg.data_all[msg.data_all['type']=='Subscribe']\n",
    "\n",
    "print(calls.head(10))"
   ]
  },
  {
   "cell_type": "code",
   "execution_count": null,
   "metadata": {},
   "outputs": [],
   "source": [
    "# Emoji use over time\n",
    "\n",
    "summary = msg.data_adj.groupby(['has_emoji'], as_index=False).count()"
   ]
  },
  {
   "cell_type": "code",
   "execution_count": null,
   "metadata": {},
   "outputs": [],
   "source": []
  }
 ],
 "metadata": {
  "kernelspec": {
   "display_name": "Python 3.7.4 ('venv': venv)",
   "language": "python",
   "name": "python3"
  },
  "language_info": {
   "codemirror_mode": {
    "name": "ipython",
    "version": 3
   },
   "file_extension": ".py",
   "mimetype": "text/x-python",
   "name": "python",
   "nbconvert_exporter": "python",
   "pygments_lexer": "ipython3",
   "version": "3.7.4"
  },
  "orig_nbformat": 4,
  "vscode": {
   "interpreter": {
    "hash": "5c8f65cfe73500781bc8301ba133a94325f6c6a1bad148635cfdf05613c2dc5e"
   }
  }
 },
 "nbformat": 4,
 "nbformat_minor": 2
}
