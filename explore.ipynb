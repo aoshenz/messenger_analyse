{
 "cells": [
  {
   "cell_type": "code",
   "execution_count": 1,
   "metadata": {},
   "outputs": [
    {
     "name": "stdout",
     "output_type": "stream",
     "text": [
      "Importing previously saved output from: /Users/aoshenzhou/personal/messenger_analyse/personal_data/df.gzip\n",
      "Imported.\n"
     ]
    }
   ],
   "source": [
    "from messenger import Messenger\n",
    "import pandas as pd\n",
    "import plotly.express as px\n",
    "\n",
    "msg = Messenger()\n",
    "msg.get_data()\n",
    "msg.get_metrics()"
   ]
  },
  {
   "cell_type": "code",
   "execution_count": 9,
   "metadata": {},
   "outputs": [
    {
     "data": {
      "text/plain": [
       "{'days_of_data': '868',\n",
       " 'msg_sent': '127,900',\n",
       " 'msg_received': '236,932',\n",
       " 'words_sent': '711,640',\n",
       " 'words_received': '1,221,666',\n",
       " 'words_per_msg_sent': '5.56',\n",
       " 'words_per_msg_received': '5.16',\n",
       " 'msg_per_day_sent': '147',\n",
       " 'msg_per_day_received': '273'}"
      ]
     },
     "execution_count": 9,
     "metadata": {},
     "output_type": "execute_result"
    }
   ],
   "source": [
    "# Data\n",
    "msg.data_all # data before adjustments\n",
    "msg.data_adj # data after adjustments i.e. date filter, some flags\n",
    "\n",
    "# Metrics\n",
    "msg.report_details # configurations\n",
    "msg.overview_metrics # data metrics"
   ]
  },
  {
   "cell_type": "code",
   "execution_count": null,
   "metadata": {},
   "outputs": [],
   "source": []
  },
  {
   "cell_type": "code",
   "execution_count": null,
   "metadata": {},
   "outputs": [],
   "source": []
  }
 ],
 "metadata": {
  "kernelspec": {
   "display_name": "Python 3.7.4 ('venv': venv)",
   "language": "python",
   "name": "python3"
  },
  "language_info": {
   "codemirror_mode": {
    "name": "ipython",
    "version": 3
   },
   "file_extension": ".py",
   "mimetype": "text/x-python",
   "name": "python",
   "nbconvert_exporter": "python",
   "pygments_lexer": "ipython3",
   "version": "3.7.4"
  },
  "orig_nbformat": 4,
  "vscode": {
   "interpreter": {
    "hash": "5c8f65cfe73500781bc8301ba133a94325f6c6a1bad148635cfdf05613c2dc5e"
   }
  }
 },
 "nbformat": 4,
 "nbformat_minor": 2
}
